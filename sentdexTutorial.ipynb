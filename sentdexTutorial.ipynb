{
 "metadata": {
  "language_info": {
   "codemirror_mode": {
    "name": "ipython",
    "version": 3
   },
   "file_extension": ".py",
   "mimetype": "text/x-python",
   "name": "python",
   "nbconvert_exporter": "python",
   "pygments_lexer": "ipython3",
   "version": 3
  },
  "orig_nbformat": 2,
  "kernelspec": {
   "name": "python_defaultSpec_1596235070897",
   "display_name": "Python 3.8.3 64-bit"
  }
 },
 "nbformat": 4,
 "nbformat_minor": 2,
 "cells": [
  {
   "cell_type": "code",
   "execution_count": 3,
   "metadata": {},
   "outputs": [
    {
     "output_type": "execute_result",
     "data": {
      "text/plain": "'\\nhttps://www.youtube.com/watch?v=BzcBsTou0C0&t=1s\\n\\nNeural Networks:\\n- Fully connected network all parameters are connected to the next level\\n- Input->HiddenLv1->HiddenLv2->Output\\n- Input multiplied by weight then summed with all inputs with Sigma\\n- Sent to an \"Activator\" which decides whether to send signal (0, 1)\\n- 3 blue 1 brown Youtube\\n'"
     },
     "metadata": {},
     "execution_count": 3
    }
   ],
   "source": [
    "\"\"\"\n",
    "https://www.youtube.com/watch?v=BzcBsTou0C0&t=1s\n",
    "\n",
    "Neural Networks:\n",
    "- Fully connected network all parameters are connected to the next level\n",
    "- Input->HiddenLv1->HiddenLv2->Output\n",
    "- Input multiplied by weight then summed with all inputs with Sigma\n",
    "- Sent to an \"Activator\" which decides whether to send signal (0, 1)\n",
    "- 3 blue 1 brown Youtube\n",
    "\"\"\""
   ]
  },
  {
   "cell_type": "code",
   "execution_count": 1,
   "metadata": {
    "tags": []
   },
   "outputs": [
    {
     "output_type": "stream",
     "name": "stdout",
     "text": "tensor([10.,  3.])\n"
    }
   ],
   "source": [
    "import torch\n",
    "\n",
    "x = torch.Tensor([5, 3])\n",
    "y = torch.Tensor([2, 1])\n",
    "\n",
    "print(x * y)\n"
   ]
  },
  {
   "cell_type": "code",
   "execution_count": 5,
   "metadata": {
    "tags": []
   },
   "outputs": [
    {
     "output_type": "stream",
     "name": "stdout",
     "text": "tensor([[0., 0., 0., 0., 0.],\n        [0., 0., 0., 0., 0.]])\n"
    }
   ],
   "source": [
    "x = torch.zeros([2, 5])\n",
    "print(x)"
   ]
  },
  {
   "cell_type": "code",
   "execution_count": 6,
   "metadata": {},
   "outputs": [
    {
     "output_type": "execute_result",
     "data": {
      "text/plain": "torch.Size([2, 5])"
     },
     "metadata": {},
     "execution_count": 6
    }
   ],
   "source": [
    "x.shape"
   ]
  },
  {
   "cell_type": "code",
   "execution_count": 8,
   "metadata": {},
   "outputs": [
    {
     "output_type": "execute_result",
     "data": {
      "text/plain": "tensor([[0.4872, 0.3275, 0.0502, 0.4357, 0.5117],\n        [0.1676, 0.6053, 0.4482, 0.7289, 0.2175]])"
     },
     "metadata": {},
     "execution_count": 8
    }
   ],
   "source": [
    "y = torch.rand([2, 5])\n",
    "y"
   ]
  },
  {
   "cell_type": "code",
   "execution_count": 12,
   "metadata": {},
   "outputs": [
    {
     "output_type": "execute_result",
     "data": {
      "text/plain": "tensor([[0.4872, 0.3275, 0.0502, 0.4357, 0.5117, 0.1676, 0.6053, 0.4482, 0.7289,\n         0.2175]])"
     },
     "metadata": {},
     "execution_count": 12
    }
   ],
   "source": [
    "\"\"\"flatten element\"\"\"\n",
    "y = y.view([1, 10])\n",
    "y"
   ]
  },
  {
   "cell_type": "code",
   "execution_count": null,
   "metadata": {},
   "outputs": [],
   "source": []
  }
 ]
}