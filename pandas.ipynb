{
 "metadata": {
  "language_info": {
   "codemirror_mode": {
    "name": "ipython",
    "version": 3
   },
   "file_extension": ".py",
   "mimetype": "text/x-python",
   "name": "python",
   "nbconvert_exporter": "python",
   "pygments_lexer": "ipython3",
   "version": 3
  },
  "orig_nbformat": 2,
  "kernelspec": {
   "name": "python_defaultSpec_1596939295592",
   "display_name": "Python 3.8.3 64-bit"
  }
 },
 "nbformat": 4,
 "nbformat_minor": 2,
 "cells": [
  {
   "cell_type": "code",
   "execution_count": 3,
   "metadata": {},
   "outputs": [],
   "source": [
    "import pandas as pd"
   ]
  },
  {
   "cell_type": "code",
   "execution_count": 4,
   "metadata": {},
   "outputs": [
    {
     "output_type": "execute_result",
     "data": {
      "text/plain": "             Name      Interest     Cost\nPerson 1  Winfred   PC Building  1300.99\nPerson 2    Kevyn  Kitty Litter   220.40\nPerson 3    Vinod     Bird Seed     5.00",
      "text/html": "<div>\n<style scoped>\n    .dataframe tbody tr th:only-of-type {\n        vertical-align: middle;\n    }\n\n    .dataframe tbody tr th {\n        vertical-align: top;\n    }\n\n    .dataframe thead th {\n        text-align: right;\n    }\n</style>\n<table border=\"1\" class=\"dataframe\">\n  <thead>\n    <tr style=\"text-align: right;\">\n      <th></th>\n      <th>Name</th>\n      <th>Interest</th>\n      <th>Cost</th>\n    </tr>\n  </thead>\n  <tbody>\n    <tr>\n      <th>Person 1</th>\n      <td>Winfred</td>\n      <td>PC Building</td>\n      <td>1300.99</td>\n    </tr>\n    <tr>\n      <th>Person 2</th>\n      <td>Kevyn</td>\n      <td>Kitty Litter</td>\n      <td>220.40</td>\n    </tr>\n    <tr>\n      <th>Person 3</th>\n      <td>Vinod</td>\n      <td>Bird Seed</td>\n      <td>5.00</td>\n    </tr>\n  </tbody>\n</table>\n</div>"
     },
     "metadata": {},
     "execution_count": 4
    }
   ],
   "source": [
    "purchase_1 = pd.Series({'Name': 'Winfred',\n",
    "                        'Interest': 'PC Building',\n",
    "                        'Cost': 1300.99})\n",
    "purchase_2 = pd.Series({'Name': 'Kevyn',\n",
    "                        'Interest': 'Kitty Litter',\n",
    "                        'Cost': 220.40})\n",
    "purchase_3 = pd.Series({'Name': 'Vinod',\n",
    "                        'Interest': 'Bird Seed',\n",
    "                        'Cost': 5.00})\n",
    "df = pd.DataFrame([purchase_1, purchase_2, purchase_3], index = ['Person 1', 'Person 2', 'Person 3'])\n",
    "df.head()"
   ]
  },
  {
   "cell_type": "code",
   "execution_count": 5,
   "metadata": {},
   "outputs": [
    {
     "output_type": "execute_result",
     "data": {
      "text/plain": "Name            Winfred\nInterest    PC Building\nCost            1300.99\nName: Person 1, dtype: object"
     },
     "metadata": {},
     "execution_count": 5
    }
   ],
   "source": [
    "df.loc['Person 1']"
   ]
  },
  {
   "cell_type": "code",
   "execution_count": null,
   "metadata": {},
   "outputs": [],
   "source": []
  }
 ]
}